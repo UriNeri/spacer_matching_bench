{
 "cells": [
  {
   "cell_type": "markdown",
   "metadata": {},
   "source": [
    "# \n",
    "\n",
    "``` mermaid\n",
    "timeline\n",
    "    title Spacer Databases\n",
    "    section 2007\n",
    "        CRT : First CRISPR detection tool : Bland et al. \n",
    "        PILER-CR : Fast CRISPR repeat identification : Edgar \n",
    "        CRISPRdb : First public CRISPR database : Grissa et al. \n",
    "    section 2012\n",
    "        Human Gut Microbiome : 991 phages from 124 individuals : Stern et al. \n",
    "    section 2013\n",
    "        CRISPRTarget : Web-based spacer analysis : Biswas et al. \n",
    "    section 2017\n",
    "        Spacerome : Comprehensive analysis of 366,799 unique spacers : Shmakov et al. \n",
    "    section 2019\n",
    "        CRISPRCasdb : Successor to CRISPRdb (353,377 unique spacers) : Pourcel et al. \n",
    "    section 2021\n",
    "        CRISPRidentify : ML-based CRISPR array detection : Mitrofanov et al. \n",
    "        CRISPROpenDB : host prediction tool, 1,173,006 unique spacers : Dion et al. \n",
    "    section 2023\n",
    "        IMG/VR v4 : 3,835,942 unique spacers from genomes/metagenomes : Camargo et al. \n",
    "```\n",
    "\n",
    "Grissa, I., Vergnaud, G., & Pourcel, C. (2007). The CRISPRdb database and tools to display CRISPRs and to generate dictionaries of spacers and repeats. BMC Bioinformatics, 8(1), 172. https://doi.org/10.1186/1471-2105-8-172 Shmakov, S. A., Sitnik, V., Makarova, K. S., Wolf, Y. I., Severinov, K. V., & Koonin, E. V. (2017). The CRISPR Spacer Space Is Dominated by Sequences from Species-Specific Mobilomes. mBio, 8(5), e01397-17. https://doi.org/10.1128/mBio.01397-17 Camargo, A. P., Nayfach, S., Chen, I. M. A., Palaniappan, K., Ratner, A., Chu, K., … & Roux, S. (2023). IMG/VR v4: an expanded database of uncultivated virus genomes within a framework of extensive functional, taxonomic, and ecological metadata. Nucleic Acids Research, 51(D1), D733-D743. https://doi.org/10.1093/nar/gkac1037 Mitrofanov, A., Alkhnbashi, O. S., Shmakov, S. A., Makarova, K. S., Koonin, E. V., & Backofen, R. (2021). CRISPRidentify: identification of CRISPR arrays using machine learning approach. Nucleic Acids Research, 49(4), e20. https://doi.org/10.1093/nar/gkaa1158 Bland, C., Ramsey, T. L., Sabree, F., Lowe, M., Brown, K., Kyrpides, N. C., & Hugenholtz, P. (2007). CRISPR Recognition Tool (CRT): a tool for automatic detection of clustered regularly interspaced palindromic repeats. BMC Bioinformatics, 8(1), 209. https://doi.org/10.1186/1471-2105-8-209 Edgar, R. C. (2007). PILER-CR: Fast and accurate identification of CRISPR repeats. BMC Bioinformatics, 8(1), 18. https://doi.org/10.1186/1471-2105-8-18 Stern, A., Mick, E., Tirosh, I., Sagy, O., & Sorek, R. (2012). CRISPR targeting reveals a reservoir of common phages associated with the human gut microbiome. Genome Research, 22(10), 1985-1994. https://doi.org/10.1101/gr.138297.112 Biswas, A., Gagnon, J. N., Brouns, S. J. J., Fineran, P. C., & Brown, C. M. (2013). CRISPRTarget. RNA Biology, 10(5), 817-827. https://doi.org/10.4161/rna.24046 Pourcel, C., Touchon, M., Villeriot, N., Vernadet, J. P., Couvin, D., Toffano-Nioche, C., & Vergnaud, G. (2019). CRISPRCasdb a successor of CRISPRdb containing CRISPR arrays and cas genes from complete genome sequences, and tools to download and query lists of repeats and spacers. Nucleic Acids Research, 48(D1), D535-D544. https://doi.org/10.1093/nar/gkz915 Dion, M. B., Plante, P. L., Zufferey, E., Shah, S. A., Corbeil, J., & Moineau, S. (2021). Streamlining CRISPR spacer-based bacterial host predictions to decipher the viral dark matter. Nucleic Acids Research, 49(6), 3127-3138. https://doi.org/10.1093/nar/gkab133"
   ],
   "id": "06616cb4-26e5-464e-9e40-0c57bcf6f546"
  }
 ],
 "nbformat": 4,
 "nbformat_minor": 5,
 "metadata": {}
}
