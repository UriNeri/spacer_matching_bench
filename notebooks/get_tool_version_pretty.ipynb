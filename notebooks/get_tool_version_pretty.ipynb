{
 "cells": [
  {
   "cell_type": "markdown",
   "metadata": {},
   "source": [
    "Cleaning up the txt file for the tool versions and merging it with the json configs."
   ]
  },
  {
   "cell_type": "code",
   "execution_count": 149,
   "metadata": {},
   "outputs": [],
   "source": [
    "import json\n",
    "import polars as pl\n",
    "from pathlib import Path\n",
    "import re\n",
    "from typing import Dict, List, Union\n"
   ]
  },
  {
   "cell_type": "code",
   "execution_count": 150,
   "metadata": {},
   "outputs": [],
   "source": [
    "all_tools= json.load(open(\"all_configs.json\"))\n",
    "all_tool_df = pl.DataFrame(all_tools)\n",
    "all_tool_df = all_tool_df.select(\n",
    "    pl.col(\"command\").list.first().alias(\"command\"),\n",
    "    pl.col(\"name\").str.to_lowercase().alias(\"tool_name\")\n",
    ")"
   ]
  },
  {
   "cell_type": "code",
   "execution_count": 151,
   "metadata": {},
   "outputs": [
    {
     "data": {
      "text/html": [
       "<div><style>\n",
       ".dataframe > thead > tr,\n",
       ".dataframe > tbody > tr {\n",
       "  text-align: right;\n",
       "  white-space: pre-wrap;\n",
       "}\n",
       "</style>\n",
       "<small>shape: (15, 2)</small><table border=\"1\" class=\"dataframe\"><thead><tr><th>command</th><th>tool_name</th></tr><tr><td>str</td><td>str</td></tr></thead><tbody><tr><td>&quot;bbmapskimmer.sh sam=1.4 maxind…</td><td>&quot;bbmapskimmer&quot;</td></tr><tr><td>&quot;bbmapskimmer.sh sam=1.4 maxind…</td><td>&quot;bbmapskimmermod&quot;</td></tr><tr><td>&quot;makeblastdb -in {contigs_file}…</td><td>&quot;blastn&quot;</td></tr><tr><td>&quot;bowtie-build --threads {thread…</td><td>&quot;bowtie1&quot;</td></tr><tr><td>&quot;bowtie2-build --large-index --…</td><td>&quot;bowtie2&quot;</td></tr><tr><td>&hellip;</td><td>&hellip;</td></tr><tr><td>&quot;mkdir -p {output_dir}/tmp_spac…</td><td>&quot;mmseqs2&quot;</td></tr><tr><td>&quot;mkdir -p {output_dir}/tmp_spac…</td><td>&quot;mmseqs2map&quot;</td></tr><tr><td>&quot;nucmer --maxmatch --nosimplify…</td><td>&quot;mummer4&quot;</td></tr><tr><td>&quot;spacer-containment --n-threads…</td><td>&quot;spacer_containment&quot;</td></tr><tr><td>&quot;strobealign --eqx -k 15 -N 100…</td><td>&quot;strobealign&quot;</td></tr></tbody></table></div>"
      ],
      "text/plain": [
       "shape: (15, 2)\n",
       "┌─────────────────────────────────┬────────────────────┐\n",
       "│ command                         ┆ tool_name          │\n",
       "│ ---                             ┆ ---                │\n",
       "│ str                             ┆ str                │\n",
       "╞═════════════════════════════════╪════════════════════╡\n",
       "│ bbmapskimmer.sh sam=1.4 maxind… ┆ bbmapskimmer       │\n",
       "│ bbmapskimmer.sh sam=1.4 maxind… ┆ bbmapskimmermod    │\n",
       "│ makeblastdb -in {contigs_file}… ┆ blastn             │\n",
       "│ bowtie-build --threads {thread… ┆ bowtie1            │\n",
       "│ bowtie2-build --large-index --… ┆ bowtie2            │\n",
       "│ …                               ┆ …                  │\n",
       "│ mkdir -p {output_dir}/tmp_spac… ┆ mmseqs2            │\n",
       "│ mkdir -p {output_dir}/tmp_spac… ┆ mmseqs2map         │\n",
       "│ nucmer --maxmatch --nosimplify… ┆ mummer4            │\n",
       "│ spacer-containment --n-threads… ┆ spacer_containment │\n",
       "│ strobealign --eqx -k 15 -N 100… ┆ strobealign        │\n",
       "└─────────────────────────────────┴────────────────────┘"
      ]
     },
     "execution_count": 151,
     "metadata": {},
     "output_type": "execute_result"
    }
   ],
   "source": [
    "all_tool_df"
   ]
  },
  {
   "cell_type": "code",
   "execution_count": 152,
   "metadata": {},
   "outputs": [
    {
     "data": {
      "text/html": [
       "<div><style>\n",
       ".dataframe > thead > tr,\n",
       ".dataframe > tbody > tr {\n",
       "  text-align: right;\n",
       "  white-space: pre-wrap;\n",
       "}\n",
       "</style>\n",
       "<small>shape: (12, 2)</small><table border=\"1\" class=\"dataframe\"><thead><tr><th>tool_name</th><th>version</th></tr><tr><td>str</td><td>str</td></tr></thead><tbody><tr><td>&quot;bowtie1&quot;</td><td>&quot;bowtie-align-s version 1.3.1, …</td></tr><tr><td>&quot;bowtie2&quot;</td><td>&quot;bowtie2-align-s version 2.5.4,…</td></tr><tr><td>&quot;minimap2&quot;</td><td>&quot;2.28-r1209&quot;</td></tr><tr><td>&quot;bbmapskimmer&quot;</td><td>&quot;39.13&quot;</td></tr><tr><td>&quot;strobealign&quot;</td><td>&quot;0.15.0&quot;</td></tr><tr><td>&hellip;</td><td>&hellip;</td></tr><tr><td>&quot;bwa&quot;</td><td>&quot;0.7.19-r1273&quot;</td></tr><tr><td>&quot;hisat2&quot;</td><td>&quot;hisat2-align-s version 2.2.1, …</td></tr><tr><td>&quot;spacer_containment&quot;</td><td>&quot;0.1.0&quot;</td></tr><tr><td>&quot;lexicmap&quot;</td><td>&quot;v0.5.0 (06741c8)&quot;</td></tr><tr><td>&quot;mummer4&quot;</td><td>&quot;4.10.0-r1304 // 4.0.1&quot;</td></tr></tbody></table></div>"
      ],
      "text/plain": [
       "shape: (12, 2)\n",
       "┌────────────────────┬─────────────────────────────────┐\n",
       "│ tool_name          ┆ version                         │\n",
       "│ ---                ┆ ---                             │\n",
       "│ str                ┆ str                             │\n",
       "╞════════════════════╪═════════════════════════════════╡\n",
       "│ bowtie1            ┆ bowtie-align-s version 1.3.1, … │\n",
       "│ bowtie2            ┆ bowtie2-align-s version 2.5.4,… │\n",
       "│ minimap2           ┆ 2.28-r1209                      │\n",
       "│ bbmapskimmer       ┆ 39.13                           │\n",
       "│ strobealign        ┆ 0.15.0                          │\n",
       "│ …                  ┆ …                               │\n",
       "│ bwa                ┆ 0.7.19-r1273                    │\n",
       "│ hisat2             ┆ hisat2-align-s version 2.2.1, … │\n",
       "│ spacer_containment ┆ 0.1.0                           │\n",
       "│ lexicmap           ┆ v0.5.0 (06741c8)                │\n",
       "│ mummer4            ┆ 4.10.0-r1304 // 4.0.1           │\n",
       "└────────────────────┴─────────────────────────────────┘"
      ]
     },
     "execution_count": 152,
     "metadata": {},
     "output_type": "execute_result"
    }
   ],
   "source": [
    "tools_versions_raw = open(\"tool_versions.txt\").read().split(\"#####\")\n",
    "tools_versions_raw = [x.strip() for x in tools_versions_raw if x.strip()]\n",
    "# remove absolute path ( anything until bin/)\n",
    "tools_versions_raw = [re.sub(r\".+/bin/\", \"\", x) for x in tools_versions_raw]\n",
    "tools_versions_raw = [re.sub(f\"/clusterfs/jgi/groups/science/homes/uneri/\", \"\", x) for x in tools_versions_raw]\n",
    "\n",
    "# get tool name from first line\n",
    "tools_versions_raw = {x.split(\"\\n\")[0]: x.split(\"\\n\", 1)[1] for x in tools_versions_raw}\n",
    "# replace newlines with commas\n",
    "tools_versions_raw = {k: v.replace(\"\\n\", \", \") for k, v in tools_versions_raw.items()}\n",
    "tools_versions_raw_df = pl.DataFrame({\"tool\": list(tools_versions_raw.keys()), \"version\": list(tools_versions_raw.values())})\n",
    "tools_versions_raw_df = tools_versions_raw_df.select(\n",
    "    pl.col(\"tool\").str.to_lowercase().str.replace(\"-\", \"_\").alias(\"tool_name\"),\n",
    "    pl.col(\"version\").str.replace(\"  \", \" \").alias(\"version\")\n",
    ")\n",
    "tools_versions_raw_df\n"
   ]
  },
  {
   "cell_type": "code",
   "execution_count": 154,
   "metadata": {},
   "outputs": [
    {
     "data": {
      "text/html": [
       "<div><style>\n",
       ".dataframe > thead > tr,\n",
       ".dataframe > tbody > tr {\n",
       "  text-align: right;\n",
       "  white-space: pre-wrap;\n",
       "}\n",
       "</style>\n",
       "<small>shape: (11, 3)</small><table border=\"1\" class=\"dataframe\"><thead><tr><th>command</th><th>tool_name</th><th>version</th></tr><tr><td>str</td><td>str</td><td>str</td></tr></thead><tbody><tr><td>&quot;bbmapskimmer.sh sam=1.4 maxind…</td><td>&quot;bbmapskimmer&quot;</td><td>&quot;39.13&quot;</td></tr><tr><td>&quot;makeblastdb -in {contigs_file}…</td><td>&quot;blastn&quot;</td><td>&quot;2.16.0+ Package: blast 2.16.0,…</td></tr><tr><td>&quot;bowtie-build --threads {thread…</td><td>&quot;bowtie1&quot;</td><td>&quot;bowtie-align-s version 1.3.1, …</td></tr><tr><td>&quot;bowtie2-build --large-index --…</td><td>&quot;bowtie2&quot;</td><td>&quot;bowtie2-align-s version 2.5.4,…</td></tr><tr><td>&quot;hisat2-build -p {threads} {con…</td><td>&quot;hisat2&quot;</td><td>&quot;hisat2-align-s version 2.2.1, …</td></tr><tr><td>&hellip;</td><td>&hellip;</td><td>&hellip;</td></tr><tr><td>&quot;minimap2 -N 100 --eqx -t {thre…</td><td>&quot;minimap2&quot;</td><td>&quot;2.28-r1209&quot;</td></tr><tr><td>&quot;mkdir -p {output_dir}/tmp_spac…</td><td>&quot;mmseqs2&quot;</td><td>&quot;db8ad2d14d0a285ce0ad62bbefd0dc…</td></tr><tr><td>&quot;nucmer --maxmatch --nosimplify…</td><td>&quot;mummer4&quot;</td><td>&quot;4.10.0-r1304 // 4.0.1&quot;</td></tr><tr><td>&quot;spacer-containment --n-threads…</td><td>&quot;spacer_containment&quot;</td><td>&quot;0.1.0&quot;</td></tr><tr><td>&quot;strobealign --eqx -k 15 -N 100…</td><td>&quot;strobealign&quot;</td><td>&quot;0.15.0&quot;</td></tr></tbody></table></div>"
      ],
      "text/plain": [
       "shape: (11, 3)\n",
       "┌─────────────────────────────────┬────────────────────┬─────────────────────────────────┐\n",
       "│ command                         ┆ tool_name          ┆ version                         │\n",
       "│ ---                             ┆ ---                ┆ ---                             │\n",
       "│ str                             ┆ str                ┆ str                             │\n",
       "╞═════════════════════════════════╪════════════════════╪═════════════════════════════════╡\n",
       "│ bbmapskimmer.sh sam=1.4 maxind… ┆ bbmapskimmer       ┆ 39.13                           │\n",
       "│ makeblastdb -in {contigs_file}… ┆ blastn             ┆ 2.16.0+ Package: blast 2.16.0,… │\n",
       "│ bowtie-build --threads {thread… ┆ bowtie1            ┆ bowtie-align-s version 1.3.1, … │\n",
       "│ bowtie2-build --large-index --… ┆ bowtie2            ┆ bowtie2-align-s version 2.5.4,… │\n",
       "│ hisat2-build -p {threads} {con… ┆ hisat2             ┆ hisat2-align-s version 2.2.1, … │\n",
       "│ …                               ┆ …                  ┆ …                               │\n",
       "│ minimap2 -N 100 --eqx -t {thre… ┆ minimap2           ┆ 2.28-r1209                      │\n",
       "│ mkdir -p {output_dir}/tmp_spac… ┆ mmseqs2            ┆ db8ad2d14d0a285ce0ad62bbefd0dc… │\n",
       "│ nucmer --maxmatch --nosimplify… ┆ mummer4            ┆ 4.10.0-r1304 // 4.0.1           │\n",
       "│ spacer-containment --n-threads… ┆ spacer_containment ┆ 0.1.0                           │\n",
       "│ strobealign --eqx -k 15 -N 100… ┆ strobealign        ┆ 0.15.0                          │\n",
       "└─────────────────────────────────┴────────────────────┴─────────────────────────────────┘"
      ]
     },
     "execution_count": 154,
     "metadata": {},
     "output_type": "execute_result"
    }
   ],
   "source": [
    "merged_df = all_tool_df.join( tools_versions_raw_df, on=\"tool_name\", how=\"inner\")\n",
    "merged_df.write_csv(\"utils/tool_versions.tsv\", separator=\"\\t\")\n",
    "\n",
    "merged_df "
   ]
  }
 ],
 "metadata": {
  "kernelspec": {
   "display_name": "default",
   "language": "python",
   "name": "python3"
  },
  "language_info": {
   "codemirror_mode": {
    "name": "ipython",
    "version": 3
   },
   "file_extension": ".py",
   "mimetype": "text/x-python",
   "name": "python",
   "nbconvert_exporter": "python",
   "pygments_lexer": "ipython3",
   "version": "3.9.22"
  }
 },
 "nbformat": 4,
 "nbformat_minor": 2
}
